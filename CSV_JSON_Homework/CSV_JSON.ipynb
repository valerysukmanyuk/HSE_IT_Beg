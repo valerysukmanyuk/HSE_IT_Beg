{
 "cells": [
  {
   "cell_type": "markdown",
   "metadata": {},
   "source": [
    "Задание 1"
   ]
  },
  {
   "cell_type": "code",
   "execution_count": null,
   "metadata": {},
   "outputs": [],
   "source": [
    "import csv\n",
    "\n",
    "with open(\"employees.csv\", \"r\") as csvfile:\n",
    "    data = csv.reader(csvfile, delimiter= \",\")\n",
    "    \n",
    "    for row in data: \n",
    "        print(\", \".join(row))"
   ]
  },
  {
   "cell_type": "markdown",
   "metadata": {},
   "source": [
    "Задание 2"
   ]
  },
  {
   "cell_type": "code",
   "execution_count": null,
   "metadata": {},
   "outputs": [],
   "source": [
    "import csv\n",
    "with open('countries.csv', 'r') as csvfile:\n",
    " data = csv.reader(csvfile, delimiter = '\\t')\n",
    " for row in data:\n",
    "   print(', '.join(row))"
   ]
  },
  {
   "cell_type": "markdown",
   "metadata": {},
   "source": [
    "Задание 3"
   ]
  },
  {
   "cell_type": "code",
   "execution_count": null,
   "metadata": {},
   "outputs": [],
   "source": [
    "import csv\n",
    "with open('employees.csv', 'r') as csvfile:\n",
    "   reader = csv.reader(csvfile)\n",
    "   data_list = list(reader)\n",
    "print(data_list)"
   ]
  },
  {
   "cell_type": "markdown",
   "metadata": {},
   "source": [
    "Задание 4"
   ]
  },
  {
   "cell_type": "code",
   "execution_count": null,
   "metadata": {},
   "outputs": [],
   "source": [
    "import csv\n",
    "data = csv.DictReader(open(\"departments.csv\"))\n",
    "for i in data:\n",
    "   print(i)"
   ]
  },
  {
   "cell_type": "markdown",
   "metadata": {},
   "source": [
    "Задание 5"
   ]
  },
  {
   "cell_type": "code",
   "execution_count": null,
   "metadata": {},
   "outputs": [],
   "source": [
    "import csv\n",
    "print(\"\\nWith initial spaces after a delimiter:\\n\")\n",
    "with open('departments.csv', 'r') as csvfile:\n",
    "   data = csv.reader(csvfile, skipinitialspace=False)\n",
    "   for row in data:\n",
    "     print(', '.join(row))\n",
    "print(\"\\n\\nWithout initial spaces after a delimiter:\\n\")\n",
    "with open('departments.csv', 'r') as csvfile:\n",
    "   data = csv.reader(csvfile, skipinitialspace=True)\n",
    "   for row in data:\n",
    "     print(', '.join(row))"
   ]
  }
 ],
 "metadata": {
  "kernelspec": {
   "display_name": "Python 3",
   "language": "python",
   "name": "python3"
  },
  "language_info": {
   "codemirror_mode": {
    "name": "ipython",
    "version": 3
   },
   "file_extension": ".py",
   "mimetype": "text/x-python",
   "name": "python",
   "nbconvert_exporter": "python",
   "pygments_lexer": "ipython3",
   "version": "3.12.6"
  }
 },
 "nbformat": 4,
 "nbformat_minor": 2
}
