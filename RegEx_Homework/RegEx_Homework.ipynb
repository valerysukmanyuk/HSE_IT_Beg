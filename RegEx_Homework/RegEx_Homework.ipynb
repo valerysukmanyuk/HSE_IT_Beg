{
 "cells": [
  {
   "cell_type": "markdown",
   "metadata": {},
   "source": [
    "Задание 1"
   ]
  },
  {
   "cell_type": "code",
   "execution_count": 6,
   "metadata": {},
   "outputs": [
    {
     "name": "stdout",
     "output_type": "stream",
     "text": [
      "['Hello', 'Regex', 'Python']\n"
     ]
    }
   ],
   "source": [
    "import re\n",
    "text = \"Hello world, this is a Regex example with Python.\"\n",
    "capitals = re.findall(r'\\b[A-Z][a-zA-Z]*\\b',text)\n",
    "print(capitals)"
   ]
  },
  {
   "cell_type": "markdown",
   "metadata": {},
   "source": [
    "Задание 2"
   ]
  },
  {
   "cell_type": "code",
   "execution_count": 9,
   "metadata": {},
   "outputs": [
    {
     "name": "stdout",
     "output_type": "stream",
     "text": [
      "This was a test. This was only a test.\n"
     ]
    }
   ],
   "source": [
    "text_1 = \"This is a test. This is only a test.\"\n",
    "\n",
    "text_changed = re.sub(r'\\bis\\b', 'was', text_1)\n",
    "print(text_changed)"
   ]
  },
  {
   "cell_type": "markdown",
   "metadata": {},
   "source": [
    "Задание 3"
   ]
  },
  {
   "cell_type": "code",
   "execution_count": 19,
   "metadata": {},
   "outputs": [
    {
     "name": "stdout",
     "output_type": "stream",
     "text": [
      "['https://www.example.com', 'http://example.org.', 'https://another-example.com/path?arg=val']\n"
     ]
    }
   ],
   "source": [
    "text_url = \"\"\"Visit https://www.example.com or follow http://example.org.\n",
    "You can also check out https://another-example.com/path?arg=val for more details.\"\"\"\n",
    "html_reg = r'https?://[\\S]+'\n",
    "urls = re.findall(html_reg, text_url)\n",
    "print(urls)"
   ]
  },
  {
   "cell_type": "markdown",
   "metadata": {},
   "source": [
    "Задание 4"
   ]
  },
  {
   "cell_type": "code",
   "execution_count": 26,
   "metadata": {},
   "outputs": [
    {
     "name": "stdout",
     "output_type": "stream",
     "text": [
      "['#sunset', '#nature', '#beautiful_day']\n"
     ]
    }
   ],
   "source": [
    "hashtag_text = \"Loving the #sunset and #nature! #beautiful_day\"\n",
    "pattern = r'#[\\w]+'\n",
    "hashtags = re.findall(pattern, hashtag_text)\n",
    "print(hashtags)"
   ]
  },
  {
   "cell_type": "markdown",
   "metadata": {},
   "source": [
    "Задание 5"
   ]
  },
  {
   "cell_type": "code",
   "execution_count": 30,
   "metadata": {},
   "outputs": [
    {
     "name": "stdout",
     "output_type": "stream",
     "text": [
      "This is a test string.\n"
     ]
    }
   ],
   "source": [
    "string = \"This is is a test test string.\"\n",
    "pattern_remove = r'\\b(\\w+)( \\1\\b)+'\n",
    "\n",
    "ok_string = re.sub(pattern_remove, r'\\1', string)\n",
    "print(ok_string)"
   ]
  }
 ],
 "metadata": {
  "kernelspec": {
   "display_name": "Python 3",
   "language": "python",
   "name": "python3"
  },
  "language_info": {
   "codemirror_mode": {
    "name": "ipython",
    "version": 3
   },
   "file_extension": ".py",
   "mimetype": "text/x-python",
   "name": "python",
   "nbconvert_exporter": "python",
   "pygments_lexer": "ipython3",
   "version": "3.12.6"
  }
 },
 "nbformat": 4,
 "nbformat_minor": 2
}
