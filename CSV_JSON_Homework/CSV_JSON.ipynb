{
 "cells": [
  {
   "cell_type": "markdown",
   "metadata": {},
   "source": [
    "Задание 1"
   ]
  },
  {
   "cell_type": "code",
   "execution_count": 1,
   "metadata": {},
   "outputs": [
    {
     "name": "stdout",
     "output_type": "stream",
     "text": [
      "employ_id, first_name, last_name, email, phone_number, hire_date, job_id, salary, commission_pct, manager_id, department_id\n",
      "100, Steven, King, SKING, 515.123.4567, 1987-06-17, AD_PRES, 24000, , , 90\n",
      "101, Neena, Kochhar, NKOCHHAR, 515.123.4568, 1987-06-18, AD_VP, 17000, , 100, 90\n",
      "102, Lex, De Haan, LDEHAAN, 515.123.4569, 1987-06-19, AD_VP, 17000, , 100, 90\n",
      "103, Alexander, Hunold, AHUNOLD, 590.423.4567, 1987-06-20, IT_PROG, 9000, , 102, 60\n",
      "104, Bruce, Ernst, BERNST, 590.423.4568, 1987-06-21, IT_PROG, 6000, , 103, 60\n",
      "105, David, Austin, DAUSTIN, 590.423.4569, 1987-06-22, IT_PROG, 4800, , 103, 60\n",
      "106, Valli, Pataballa, VPATABAL, 590.423.4560, 1987-06-23, IT_PROG, 4800, , 103, 60\n",
      "107, Diana, Lorentz, DLORENTZ, 590.423.5567, 1987-06-24, IT_PROG, 4200, , 103, 60\n",
      "108, Nancy, Greenberg, NGREENBE, 515.124.4569, 1987-06-25, FI_MGR, 12000, , 101, 100\n",
      "109, Daniel, Faviet, DFAVIET, 515.124.4169, 1987-06-26, FI_ACCOUNT, 9000, , 108, 100\n",
      "110, John, Chen, JCHEN, 515.124.4269, 1987-06-27, FI_ACCOUNT, 8200, , 108, 100\n",
      "111, Ismael, Sciarra, ISCIARRA, 515.124.4369, 1987-06-28, FI_ACCOUNT, 7700, , 108, 100\n",
      "112, Jose Manuel, Urman, JMURMAN, 515.124.4469, 1987-06-29, FI_ACCOUNT, 7800, , 108, 100\n",
      "113, Luis, Popp, LPOPP, 515.124.4567, 1987-06-30, FI_ACCOUNT, 6900, , 108, 100\n",
      "114, Den, Raphaely, DRAPHEAL, 515.127.4561, 1987-07-01, PU_MAN, 11000, , 100, 30\n",
      "115, Alexander, Khoo, AKHOO, 515.127.4562, 1987-07-02, PU_CLERK, 3100, , 114, 30\n",
      "116, Shelli, Baida, SBAIDA, 515.127.4563, 1987-07-03, PU_CLERK, 2900, , 114, 30\n",
      "117, Sigal, Tobias, STOBIAS, 515.127.4564, 1987-07-04, PU_CLERK, 2800, , 114, 30\n",
      "118, Guy, Himuro, GHIMURO, 515.127.4565, 1987-07-05, PU_CLERK, 2600, , 114, 30\n",
      "119, Karen, Colmenares, KCOLMENA, 515.127.4566, 1987-07-06, PU_CLERK, 2500, , 114, 30\n",
      "120, Matthew, Weiss, MWEISS, 650.123.1234, 1987-07-07, ST_MAN, 8000, , 100, 50\n",
      "121, Adam, Fripp, AFRIPP, 650.123.2234, 1987-07-08, ST_MAN, 8200, , 100, 50\n",
      "122, Payam, Kaufling, PKAUFLIN, 650.123.3234, 1987-07-09, ST_MAN, 7900, , 100, 50\n",
      "123, Shanta, Vollman, SVOLLMAN, 650.123.4234, 1987-07-10, ST_MAN, 6500, , 100, 50\n",
      "124, Kevin, Mourgos, KMOURGOS, 650.123.5234, 1987-07-11, ST_MAN, 5800, , 100, 50\n",
      "125, Julia, Nayer, JNAYER, 650.124.1214, 1987-07-12, ST_CLERK, 3200, , 120, 50\n",
      "126, Irene, Mikkilineni, IMIKKILI, 650.124.1224, 1987-07-13, ST_CLERK, 2700, , 120, 50\n",
      "127, James, Landry, JLANDRY, 650.124.1334, 1987-07-14, ST_CLERK, 2400, , 120, 50\n",
      "128, Steven, Markle, SMARKLE, 650.124.1434, 1987-07-15, ST_CLERK, 2200, , 120, 50\n",
      "129, Laura, Bissot, LBISSOT, 650.124.5234, 1987-07-16, ST_CLERK, 3300, , 121, 50\n",
      "130, Mozhe, Atkinson, MATKINSO, 650.124.6234, 1987-07-17, ST_CLERK, 2800, , 121, 50\n",
      "131, James, Marlow, JAMRLOW, 650.124.7234, 1987-07-18, ST_CLERK, 2500, , 121, 50\n",
      "132, TJ, Olson, TJOLSON, 650.124.8234, 1987-07-19, ST_CLERK, 2100, , 121, 50\n",
      "133, Jason, Mallin, JMALLIN, 650.127.1934, 1987-07-20, ST_CLERK, 3300, , 122, 50\n",
      "134, Michael, Rogers, MROGERS, 650.127.1834, 1987-07-21, ST_CLERK, 2900, , 122, 50\n",
      "135, Ki, Gee, KGEE, 650.127.1734, 1987-07-22, ST_CLERK, 2400, , 122, 50\n",
      "136, Hazel, Philtanker, HPHILTAN, 650.127.1634, 1987-07-23, ST_CLERK, 2200, , 122, 50\n",
      "137, Renske, Ladwig, RLADWIG, 650.121.1234, 1987-07-24, ST_CLERK, 3600, , 123, 50\n",
      "138, Stephen, Stiles, SSTILES, 650.121.2034, 1987-07-25, ST_CLERK, 3200, , 123, 50\n",
      "139, John, Seo, JSEO, 650.121.2019, 1987-07-26, ST_CLERK, 2700, , 123, 50\n",
      "140, Joshua, Patel, JPATEL, 650.121.1834, 1987-07-27, ST_CLERK, 2500, , 123, 50\n",
      "141, Trenna, Rajs, TRAJS, 650.121.8009, 1987-07-28, ST_CLERK, 3500, , 124, 50\n",
      "142, Curtis, Davies, CDAVIES, 650.121.2994, 1987-07-29, ST_CLERK, 3100, , 124, 50\n",
      "143, Randall, Matos, RMATOS, 650.121.2874, 1987-07-30, ST_CLERK, 2600, , 124, 50\n",
      "144, Peter, Vargas, PVARGAS, 650.121.2004, 1987-07-31, ST_CLERK, 2500, , 124, 50\n",
      "145, John, Russell, JRUSSEL, 011.44.1344.429268, 1987-08-01, SA_MAN, 14000, 0.4, 100, 80\n",
      "146, Karen, Partners, KPARTNER, 011.44.1344.467268, 1987-08-02, SA_MAN, 13500, 0.3, 100, 80\n",
      "147, Alberto, Errazuriz, AERRAZUR, 011.44.1344.429278, 1987-08-03, SA_MAN, 12000, 0.3, 100, 80\n",
      "148, Gerald, Cambrault, GCAMBRAU, 011.44.1344.619268, 1987-08-04, SA_MAN, 11000, 0.3, 100, 80\n",
      "149, Eleni, Zlotkey, EZLOTKEY, 011.44.1344.429018, 1987-08-05, SA_MAN, 10500, 0.2, 100, 80\n",
      "150, Peter, Tucker, PTUCKER, 011.44.1344.129268, 1987-08-06, SA_REP, 10000, 0.3, 145, 80\n"
     ]
    }
   ],
   "source": [
    "import csv\n",
    "\n",
    "with open(\"employees.csv\", \"r\") as csvfile:\n",
    "    data = csv.reader(csvfile, delimiter= \",\")\n",
    "    \n",
    "    for row in data: \n",
    "        print(\", \".join(row))"
   ]
  },
  {
   "cell_type": "markdown",
   "metadata": {},
   "source": [
    "Задание 2"
   ]
  },
  {
   "cell_type": "code",
   "execution_count": 2,
   "metadata": {},
   "outputs": [
    {
     "name": "stdout",
     "output_type": "stream",
     "text": [
      "country_id country_name region_id\n",
      "AR Argentina 2\n",
      "AU Australia 3\n",
      "BE Belgium 1\n",
      "BR Brazil 2\n",
      "CA Canada 2\n",
      "CH Switzerland 1\n",
      "CN China 3\n",
      "DE Germany 1\n",
      "DK Denmark 1\n",
      "EG Egypt 4\n",
      "FR France 1\n",
      "HK HongKong 3\n",
      "IL Israel 4\n",
      "IN India 3\n",
      "IT Italy 1\n",
      "JP Japan 3\n",
      "KW Kuwait 4\n",
      "MX Mexico 2\n",
      "NG Nigeria 4\n",
      "N Netherlands 1\n",
      "SG Singapore 3\n",
      "UK United Kingdom 1\n",
      "US United States of America 2\n",
      "ZM Zambia 4\n",
      "ZW Zimbabwe 4\n"
     ]
    }
   ],
   "source": [
    "import csv\n",
    "with open('countries.csv', 'r') as csvfile:\n",
    " data = csv.reader(csvfile, delimiter = '\\t')\n",
    " for row in data:\n",
    "   print(', '.join(row))"
   ]
  },
  {
   "cell_type": "markdown",
   "metadata": {},
   "source": [
    "Задание 3"
   ]
  },
  {
   "cell_type": "code",
   "execution_count": 3,
   "metadata": {},
   "outputs": [
    {
     "name": "stdout",
     "output_type": "stream",
     "text": [
      "[['employ_id', 'first_name', 'last_name', 'email', 'phone_number', 'hire_date', 'job_id', 'salary', 'commission_pct', 'manager_id', 'department_id'], ['100', 'Steven', 'King', 'SKING', '515.123.4567', '1987-06-17', 'AD_PRES', '24000', '', '', '90'], ['101', 'Neena', 'Kochhar', 'NKOCHHAR', '515.123.4568', '1987-06-18', 'AD_VP', '17000', '', '100', '90'], ['102', 'Lex', 'De Haan', 'LDEHAAN', '515.123.4569', '1987-06-19', 'AD_VP', '17000', '', '100', '90'], ['103', 'Alexander', 'Hunold', 'AHUNOLD', '590.423.4567', '1987-06-20', 'IT_PROG', '9000', '', '102', '60'], ['104', 'Bruce', 'Ernst', 'BERNST', '590.423.4568', '1987-06-21', 'IT_PROG', '6000', '', '103', '60'], ['105', 'David', 'Austin', 'DAUSTIN', '590.423.4569', '1987-06-22', 'IT_PROG', '4800', '', '103', '60'], ['106', 'Valli', 'Pataballa', 'VPATABAL', '590.423.4560', '1987-06-23', 'IT_PROG', '4800', '', '103', '60'], ['107', 'Diana', 'Lorentz', 'DLORENTZ', '590.423.5567', '1987-06-24', 'IT_PROG', '4200', '', '103', '60'], ['108', 'Nancy', 'Greenberg', 'NGREENBE', '515.124.4569', '1987-06-25', 'FI_MGR', '12000', '', '101', '100'], ['109', 'Daniel', 'Faviet', 'DFAVIET', '515.124.4169', '1987-06-26', 'FI_ACCOUNT', '9000', '', '108', '100'], ['110', 'John', 'Chen', 'JCHEN', '515.124.4269', '1987-06-27', 'FI_ACCOUNT', '8200', '', '108', '100'], ['111', 'Ismael', 'Sciarra', 'ISCIARRA', '515.124.4369', '1987-06-28', 'FI_ACCOUNT', '7700', '', '108', '100'], ['112', 'Jose Manuel', 'Urman', 'JMURMAN', '515.124.4469', '1987-06-29', 'FI_ACCOUNT', '7800', '', '108', '100'], ['113', 'Luis', 'Popp', 'LPOPP', '515.124.4567', '1987-06-30', 'FI_ACCOUNT', '6900', '', '108', '100'], ['114', 'Den', 'Raphaely', 'DRAPHEAL', '515.127.4561', '1987-07-01', 'PU_MAN', '11000', '', '100', '30'], ['115', 'Alexander', 'Khoo', 'AKHOO', '515.127.4562', '1987-07-02', 'PU_CLERK', '3100', '', '114', '30'], ['116', 'Shelli', 'Baida', 'SBAIDA', '515.127.4563', '1987-07-03', 'PU_CLERK', '2900', '', '114', '30'], ['117', 'Sigal', 'Tobias', 'STOBIAS', '515.127.4564', '1987-07-04', 'PU_CLERK', '2800', '', '114', '30'], ['118', 'Guy', 'Himuro', 'GHIMURO', '515.127.4565', '1987-07-05', 'PU_CLERK', '2600', '', '114', '30'], ['119', 'Karen', 'Colmenares', 'KCOLMENA', '515.127.4566', '1987-07-06', 'PU_CLERK', '2500', '', '114', '30'], ['120', 'Matthew', 'Weiss', 'MWEISS', '650.123.1234', '1987-07-07', 'ST_MAN', '8000', '', '100', '50'], ['121', 'Adam', 'Fripp', 'AFRIPP', '650.123.2234', '1987-07-08', 'ST_MAN', '8200', '', '100', '50'], ['122', 'Payam', 'Kaufling', 'PKAUFLIN', '650.123.3234', '1987-07-09', 'ST_MAN', '7900', '', '100', '50'], ['123', 'Shanta', 'Vollman', 'SVOLLMAN', '650.123.4234', '1987-07-10', 'ST_MAN', '6500', '', '100', '50'], ['124', 'Kevin', 'Mourgos', 'KMOURGOS', '650.123.5234', '1987-07-11', 'ST_MAN', '5800', '', '100', '50'], ['125', 'Julia', 'Nayer', 'JNAYER', '650.124.1214', '1987-07-12', 'ST_CLERK', '3200', '', '120', '50'], ['126', 'Irene', 'Mikkilineni', 'IMIKKILI', '650.124.1224', '1987-07-13', 'ST_CLERK', '2700', '', '120', '50'], ['127', 'James', 'Landry', 'JLANDRY', '650.124.1334', '1987-07-14', 'ST_CLERK', '2400', '', '120', '50'], ['128', 'Steven', 'Markle', 'SMARKLE', '650.124.1434', '1987-07-15', 'ST_CLERK', '2200', '', '120', '50'], ['129', 'Laura', 'Bissot', 'LBISSOT', '650.124.5234', '1987-07-16', 'ST_CLERK', '3300', '', '121', '50'], ['130', 'Mozhe', 'Atkinson', 'MATKINSO', '650.124.6234', '1987-07-17', 'ST_CLERK', '2800', '', '121', '50'], ['131', 'James', 'Marlow', 'JAMRLOW', '650.124.7234', '1987-07-18', 'ST_CLERK', '2500', '', '121', '50'], ['132', 'TJ', 'Olson', 'TJOLSON', '650.124.8234', '1987-07-19', 'ST_CLERK', '2100', '', '121', '50'], ['133', 'Jason', 'Mallin', 'JMALLIN', '650.127.1934', '1987-07-20', 'ST_CLERK', '3300', '', '122', '50'], ['134', 'Michael', 'Rogers', 'MROGERS', '650.127.1834', '1987-07-21', 'ST_CLERK', '2900', '', '122', '50'], ['135', 'Ki', 'Gee', 'KGEE', '650.127.1734', '1987-07-22', 'ST_CLERK', '2400', '', '122', '50'], ['136', 'Hazel', 'Philtanker', 'HPHILTAN', '650.127.1634', '1987-07-23', 'ST_CLERK', '2200', '', '122', '50'], ['137', 'Renske', 'Ladwig', 'RLADWIG', '650.121.1234', '1987-07-24', 'ST_CLERK', '3600', '', '123', '50'], ['138', 'Stephen', 'Stiles', 'SSTILES', '650.121.2034', '1987-07-25', 'ST_CLERK', '3200', '', '123', '50'], ['139', 'John', 'Seo', 'JSEO', '650.121.2019', '1987-07-26', 'ST_CLERK', '2700', '', '123', '50'], ['140', 'Joshua', 'Patel', 'JPATEL', '650.121.1834', '1987-07-27', 'ST_CLERK', '2500', '', '123', '50'], ['141', 'Trenna', 'Rajs', 'TRAJS', '650.121.8009', '1987-07-28', 'ST_CLERK', '3500', '', '124', '50'], ['142', 'Curtis', 'Davies', 'CDAVIES', '650.121.2994', '1987-07-29', 'ST_CLERK', '3100', '', '124', '50'], ['143', 'Randall', 'Matos', 'RMATOS', '650.121.2874', '1987-07-30', 'ST_CLERK', '2600', '', '124', '50'], ['144', 'Peter', 'Vargas', 'PVARGAS', '650.121.2004', '1987-07-31', 'ST_CLERK', '2500', '', '124', '50'], ['145', 'John', 'Russell', 'JRUSSEL', '011.44.1344.429268', '1987-08-01', 'SA_MAN', '14000', '0.4', '100', '80'], ['146', 'Karen', 'Partners', 'KPARTNER', '011.44.1344.467268', '1987-08-02', 'SA_MAN', '13500', '0.3', '100', '80'], ['147', 'Alberto', 'Errazuriz', 'AERRAZUR', '011.44.1344.429278', '1987-08-03', 'SA_MAN', '12000', '0.3', '100', '80'], ['148', 'Gerald', 'Cambrault', 'GCAMBRAU', '011.44.1344.619268', '1987-08-04', 'SA_MAN', '11000', '0.3', '100', '80'], ['149', 'Eleni', 'Zlotkey', 'EZLOTKEY', '011.44.1344.429018', '1987-08-05', 'SA_MAN', '10500', '0.2', '100', '80'], ['150', 'Peter', 'Tucker', 'PTUCKER', '011.44.1344.129268', '1987-08-06', 'SA_REP', '10000', '0.3', '145', '80']]\n"
     ]
    }
   ],
   "source": [
    "import csv\n",
    "with open('employees.csv', 'r') as csvfile:\n",
    "   reader = csv.reader(csvfile)\n",
    "   data_list = list(reader)\n",
    "print(data_list)"
   ]
  },
  {
   "cell_type": "markdown",
   "metadata": {},
   "source": [
    "Задание 4"
   ]
  },
  {
   "cell_type": "code",
   "execution_count": 4,
   "metadata": {},
   "outputs": [
    {
     "name": "stdout",
     "output_type": "stream",
     "text": [
      "{'department_id': '10', ' department_name': ' Administration', '  manager_id': ' 200', '  location_id': ' 1700'}\n",
      "{'department_id': '20', ' department_name': ' Marketing', '  manager_id': ' 201', '  location_id': ' 1800'}\n",
      "{'department_id': '30', ' department_name': ' Purchasing', '  manager_id': ' 114', '  location_id': ' 1700'}\n",
      "{'department_id': '40', ' department_name': ' Human Resources', '  manager_id': ' 203', '  location_id': ' 2400'}\n",
      "{'department_id': '50', ' department_name': ' Shipping', '  manager_id': ' 121', '  location_id': ' 1500'}\n",
      "{'department_id': '60', ' department_name': ' IT', '  manager_id': ' 103', '  location_id': ' 1400'}\n",
      "{'department_id': '70', ' department_name': ' Public Relations', '  manager_id': ' 204', '  location_id': ' 2700'}\n",
      "{'department_id': '80', ' department_name': ' Sales', '  manager_id': ' 145', '  location_id': ' 2500'}\n"
     ]
    }
   ],
   "source": [
    "import csv\n",
    "data = csv.DictReader(open(\"departments.csv\"))\n",
    "for i in data:\n",
    "   print(i)"
   ]
  },
  {
   "cell_type": "markdown",
   "metadata": {},
   "source": [
    "Задание 5"
   ]
  },
  {
   "cell_type": "code",
   "execution_count": 6,
   "metadata": {},
   "outputs": [
    {
     "name": "stdout",
     "output_type": "stream",
     "text": [
      "department_id,  department_name,   manager_id,   location_id\n",
      "10,  Administration,  200,  1700\n",
      "20,  Marketing,  201,  1800\n",
      "30,  Purchasing,  114,  1700\n",
      "40,  Human Resources,  203,  2400\n",
      "50,  Shipping,  121,  1500\n",
      "60,  IT,  103,  1400\n",
      "70,  Public Relations,  204,  2700\n",
      "80,  Sales,  145,  2500\n"
     ]
    }
   ],
   "source": [
    "import csv\n",
    "\n",
    "with open('departments.csv', 'r') as csvfile:\n",
    "   data = csv.reader(csvfile, skipinitialspace=False)\n",
    "   for i in data:\n",
    "     print(', '.join(i))"
   ]
  },
  {
   "cell_type": "markdown",
   "metadata": {},
   "source": [
    "Задача 6 (Я не нашел подходящего файла на сайте, поэтому заменил его на имеющийся)"
   ]
  },
  {
   "cell_type": "code",
   "execution_count": 2,
   "metadata": {},
   "outputs": [
    {
     "name": "stdout",
     "output_type": "stream",
     "text": [
      "['department_id', 'department_name', 'manager_id', 'location_id']\n",
      "['10', 'Administration', '200', '1700']\n",
      "['20', 'Marketing', '201', '1800']\n",
      "['30', 'Purchasing', '114', '1700']\n",
      "['40', 'Human Resources', '203', '2400']\n",
      "['50', 'Shipping', '121', '1500']\n",
      "['60', 'IT', '103', '1400']\n",
      "['70', 'Public Relations', '204', '2700']\n",
      "['80', 'Sales', '145', '2500']\n"
     ]
    }
   ],
   "source": [
    "import csv\n",
    "csv.register_dialect('csv_dialect',\n",
    "                    delimiter=',',\n",
    "                    skipinitialspace=True,\n",
    "                    quoting=csv.QUOTE_ALL)\n",
    "with open('departments.csv', 'r') as csvfile:\n",
    "   reader = csv.reader(csvfile, dialect='csv_dialect')\n",
    "   for i in reader:\n",
    "       print(i)"
   ]
  },
  {
   "cell_type": "markdown",
   "metadata": {},
   "source": [
    "Задача 7"
   ]
  },
  {
   "cell_type": "code",
   "execution_count": 7,
   "metadata": {},
   "outputs": [
    {
     "name": "stdout",
     "output_type": "stream",
     "text": [
      "ID Department name\n",
      "10 Administration\n",
      "20 Marketing\n",
      "30 Purchasing\n",
      "40 Human Resources\n",
      "50 Shipping\n",
      "60 IT\n",
      "70 Public Relations\n",
      "80 Sales\n"
     ]
    }
   ],
   "source": [
    "import csv\n",
    "with open('departments.csv', 'r') as csvfile:\n",
    "    data = csv.DictReader(csvfile, skipinitialspace=True)  \n",
    "    print(\"ID Department name\")\n",
    "    for i in data:\n",
    "        print(i['department_id'], i['department_name'])\n"
   ]
  },
  {
   "cell_type": "markdown",
   "metadata": {},
   "source": [
    "Задача 8"
   ]
  },
  {
   "cell_type": "code",
   "execution_count": 11,
   "metadata": {},
   "outputs": [
    {
     "name": "stdout",
     "output_type": "stream",
     "text": [
      "10,  Administration,  200,  1700\n",
      "20,  Marketing,  201,  1800\n",
      "30,  Purchasing,  114,  1700\n",
      "40,  Human Resources,  203,  2400\n",
      "50,  Shipping,  121,  1500\n",
      "60,  IT,  103,  1400\n",
      "70,  Public Relations,  204,  2700\n",
      "80,  Sales,  145,  2500\n",
      "\n",
      "Строки: 9\n",
      "Названия:\n",
      "department_id,  department_name,   manager_id,   location_id\n"
     ]
    }
   ],
   "source": [
    "import csv\n",
    "fields = []\n",
    "rows = []\n",
    "with open('departments.csv', 'r') as csvfile:\n",
    " data = csv.reader(csvfile)\n",
    " fields = next(data)\n",
    " for i in data:\n",
    "   print(', '.join(i))\n",
    "print(\"\\nСтроки: %d\"%(data.line_num))\n",
    "print('Названия:')\n",
    "print(', '.join(field for field in fields))"
   ]
  },
  {
   "cell_type": "markdown",
   "metadata": {},
   "source": [
    "Задача 9"
   ]
  },
  {
   "cell_type": "code",
   "execution_count": 12,
   "metadata": {},
   "outputs": [
    {
     "name": "stdout",
     "output_type": "stream",
     "text": [
      "id1,id2,date\n",
      "\n",
      "1,a,01/01/2019\n",
      "\n",
      "2,b,01/02/2019\n",
      "\n",
      "3,c,01/03/2019\n",
      "\n",
      "\n"
     ]
    }
   ],
   "source": [
    "import csv\n",
    "import sys\n",
    "with open('temp.csv', 'wt') as f:\n",
    "    writer = csv.writer(f)\n",
    "    writer.writerow(('id1', 'id2', 'date'))\n",
    "    for i in range(3):\n",
    "        row = (\n",
    "            i + 1,\n",
    "            chr(ord('a') + i),\n",
    "            '01/{:02d}/2019'.format(i + 1),)\n",
    "        writer.writerow(row)\n",
    "print(open('temp.csv', 'rt').read())"
   ]
  },
  {
   "cell_type": "markdown",
   "metadata": {},
   "source": [
    "Задача 10"
   ]
  },
  {
   "cell_type": "code",
   "execution_count": 13,
   "metadata": {},
   "outputs": [
    {
     "name": "stdout",
     "output_type": "stream",
     "text": [
      "10,a1,1\n",
      "12,a2,3\n",
      "14,a3,5\n",
      "16,a4,7\n",
      "18,a5,9\n"
     ]
    }
   ],
   "source": [
    "import csv\n",
    "data = [[10,'a1', 1], [12,'a2', 3], [14, 'a3', 5], [16, 'a4', 7], [18, 'a5', 9]]\n",
    "with open(\"temp.csv\", \"w\", newline=\"\") as f:\n",
    "   writer = csv.writer(f)\n",
    "   writer.writerows(data)\n",
    "with open('temp.csv', newline='') as csvfile:\n",
    " data = csv.reader(csvfile, delimiter=' ')\n",
    " for row in data:\n",
    "   print(', '.join(row))"
   ]
  },
  {
   "cell_type": "markdown",
   "metadata": {},
   "source": [
    "Задача 11\n"
   ]
  },
  {
   "cell_type": "code",
   "execution_count": 14,
   "metadata": {},
   "outputs": [
    {
     "name": "stdout",
     "output_type": "stream",
     "text": [
      "CSV file as a dictionary:\n",
      "\n",
      "{'id': \"['1', '2', '3']\", 'Column1': '[33, 25, 56]', 'Column2': '[35, 30, 30]', 'Column3': '[21, 40, 55]', 'Column4': '[71, 25, 55]', 'Column5': '[10, 10, 40]'}\n",
      "{'id': \"['1', '2', '3']\", 'Column1': '[33, 25, 56]', 'Column2': '[35, 30, 30]', 'Column3': '[21, 40, 55]', 'Column4': '[71, 25, 55]', 'Column5': '[10, 10, 40]'}\n",
      "{'id': \"['1', '2', '3']\", 'Column1': '[33, 25, 56]', 'Column2': '[35, 30, 30]', 'Column3': '[21, 40, 55]', 'Column4': '[71, 25, 55]', 'Column5': '[10, 10, 40]'}\n",
      "{'id': \"['1', '2', '3']\", 'Column1': '[33, 25, 56]', 'Column2': '[35, 30, 30]', 'Column3': '[21, 40, 55]', 'Column4': '[71, 25, 55]', 'Column5': '[10, 10, 40]'}\n",
      "{'id': \"['1', '2', '3']\", 'Column1': '[33, 25, 56]', 'Column2': '[35, 30, 30]', 'Column3': '[21, 40, 55]', 'Column4': '[71, 25, 55]', 'Column5': '[10, 10, 40]'}\n",
      "{'id': \"['1', '2', '3']\", 'Column1': '[33, 25, 56]', 'Column2': '[35, 30, 30]', 'Column3': '[21, 40, 55]', 'Column4': '[71, 25, 55]', 'Column5': '[10, 10, 40]'}\n"
     ]
    }
   ],
   "source": [
    "import csv\n",
    "csv_columns = ['id','Column1', 'Column2', 'Column3', 'Column4', 'Column5']\n",
    "dict_data = {'id':['1', '2', '3'],\n",
    "    'Column1':[33, 25, 56],\n",
    "    'Column2':[35, 30, 30],\n",
    "    'Column3':[21, 40, 55],\n",
    "    'Column4':[71, 25, 55],\n",
    "    'Column5':[10, 10, 40], }\n",
    "csv_file = \"temp.csv\"\n",
    "try:\n",
    "   with open(csv_file, 'w') as csvfile:\n",
    "       writer = csv.DictWriter(csvfile, fieldnames=csv_columns)\n",
    "       writer.writeheader()\n",
    "       for data in dict_data:\n",
    "           writer.writerow(dict_data)\n",
    "except IOError:\n",
    "   print(\"I/O error\")\n",
    "data = csv.DictReader(open(csv_file))\n",
    "print(\"CSV file as a dictionary:\\n\")\n",
    "for row in data:\n",
    "   print(row)"
   ]
  },
  {
   "cell_type": "markdown",
   "metadata": {},
   "source": [
    "JSON"
   ]
  },
  {
   "cell_type": "markdown",
   "metadata": {},
   "source": [
    "Задание 1"
   ]
  },
  {
   "cell_type": "code",
   "execution_count": 1,
   "metadata": {},
   "outputs": [
    {
     "name": "stdout",
     "output_type": "stream",
     "text": [
      "\n",
      "JSON data:\n",
      "{'Name': 'David', 'Class': 'I', 'Age': 6}\n",
      "\n",
      "Name:  David\n",
      "Class:  I\n",
      "Age:  6\n"
     ]
    }
   ],
   "source": [
    "import json\n",
    "json_obj =  '{ \"Name\":\"David\", \"Class\":\"I\", \"Age\":6 }'\n",
    "python_obj = json.loads(json_obj)\n",
    "print(\"\\nJSON data:\")\n",
    "print(python_obj)\n",
    "print(\"\\nName: \",python_obj[\"Name\"])\n",
    "print(\"Class: \",python_obj[\"Class\"])\n",
    "print(\"Age: \",python_obj[\"Age\"]) "
   ]
  },
  {
   "cell_type": "markdown",
   "metadata": {},
   "source": [
    "Задание 2"
   ]
  },
  {
   "cell_type": "code",
   "execution_count": 2,
   "metadata": {},
   "outputs": [
    {
     "name": "stdout",
     "output_type": "stream",
     "text": [
      "<class 'dict'>\n",
      "{\"name\": \"David\", \"class\": \"I\", \"age\": 6}\n"
     ]
    }
   ],
   "source": [
    "import json\n",
    "python_obj = {\n",
    "  \"name\": \"David\",\n",
    "  \"class\":\"I\",\n",
    "  \"age\": 6  \n",
    "}\n",
    "print(type(python_obj))\n",
    "j_data = json.dumps(python_obj)\n",
    "print(j_data)\n"
   ]
  },
  {
   "cell_type": "markdown",
   "metadata": {},
   "source": [
    "Задание 3"
   ]
  },
  {
   "cell_type": "code",
   "execution_count": 3,
   "metadata": {},
   "outputs": [
    {
     "name": "stdout",
     "output_type": "stream",
     "text": [
      "json dict :  {\"name\": \"David\", \"age\": 6, \"class\": \"I\"}\n",
      "jason list :  [\"Red\", \"Green\", \"Black\"]\n"
     ]
    }
   ],
   "source": [
    "import json\n",
    "python_dict =  {\"name\": \"David\", \"age\": 6, \"class\":\"I\"}\n",
    "python_list =  [\"Red\", \"Green\", \"Black\"]\n",
    "\n",
    "json_dict = json.dumps(python_dict)\n",
    "json_list = json.dumps(python_list)\n",
    "\n",
    "print(\"json dict : \", json_dict)\n",
    "print(\"jason list : \", json_list)\n"
   ]
  },
  {
   "cell_type": "markdown",
   "metadata": {},
   "source": [
    "Задание 4"
   ]
  },
  {
   "cell_type": "code",
   "execution_count": 4,
   "metadata": {},
   "outputs": [
    {
     "name": "stdout",
     "output_type": "stream",
     "text": [
      "Original String:\n",
      "{'4': 5, '6': 7, '1': 3, '2': 4}\n",
      "\n",
      "JSON data:\n",
      "{\n",
      "    \"1\": 3,\n",
      "    \"2\": 4,\n",
      "    \"4\": 5,\n",
      "    \"6\": 7\n",
      "}\n"
     ]
    }
   ],
   "source": [
    "import json\n",
    "j_str = {'4': 5, '6': 7, '1': 3, '2': 4}\n",
    "print(\"Original String:\")\n",
    "print(j_str)\n",
    "print(\"\\nJSON data:\")\n",
    "print(json.dumps(j_str, sort_keys=True, indent=4))\n"
   ]
  },
  {
   "cell_type": "markdown",
   "metadata": {},
   "source": [
    "Задание 5"
   ]
  },
  {
   "cell_type": "code",
   "execution_count": 5,
   "metadata": {},
   "outputs": [
    {
     "name": "stdout",
     "output_type": "stream",
     "text": [
      "Python dictionary:  {'name': 'David', 'age': 6, 'class': 'I'}\n",
      "Python list:  ['Red', 'Green', 'Black']\n"
     ]
    }
   ],
   "source": [
    "import json\n",
    "\n",
    "jobj_dict =  '{\"name\": \"David\", \"age\": 6, \"class\": \"I\"}'\n",
    "jobj_list =   '[\"Red\", \"Green\", \"Black\"]'\n",
    "\n",
    "python_dict =  json.loads(jobj_dict)\n",
    "python_list = json.loads(jobj_list)\n",
    "\n",
    "print(\"Python dictionary: \", python_dict)\n",
    "print(\"Python list: \", python_list)\n"
   ]
  },
  {
   "cell_type": "markdown",
   "metadata": {},
   "source": [
    "Задание 6 (Тут тоже не было файла, поэтому я нашел случайный сэмпл)"
   ]
  },
  {
   "cell_type": "code",
   "execution_count": 15,
   "metadata": {},
   "outputs": [
    {
     "name": "stdout",
     "output_type": "stream",
     "text": [
      "Цвет удален, новые данные сохранены в 'new_example_1.json'.\n"
     ]
    }
   ],
   "source": [
    "import json\n",
    "\n",
    "with open('example_1.json') as f:\n",
    "    data = json.load(f)\n",
    "\n",
    "if 'color' in data:\n",
    "    del data['color']\n",
    "\n",
    "with open('new_example_1.json', 'w') as f:\n",
    "    json.dump(data, f)\n",
    "\n",
    "print(\"Цвет удален, новые данные сохранены в 'new_example_1.json'.\")"
   ]
  },
  {
   "cell_type": "markdown",
   "metadata": {},
   "source": [
    "Задание 7 "
   ]
  },
  {
   "cell_type": "code",
   "execution_count": 17,
   "metadata": {},
   "outputs": [
    {
     "name": "stdout",
     "output_type": "stream",
     "text": [
      "[2.0, 3.0]\n"
     ]
    }
   ],
   "source": [
    "import json\n",
    "\n",
    "def encode_complex(object):\n",
    "    if isinstance(object, complex):\n",
    "        return [object.real, object.imag]\n",
    "    raise TypeError(repr(object) + \" is not JSON serialized\")\n",
    "\n",
    "complex_obj = json.dumps(2 + 3j, default=encode_complex)\n",
    "print(complex_obj) \n"
   ]
  },
  {
   "cell_type": "markdown",
   "metadata": {},
   "source": [
    "Задание 8"
   ]
  },
  {
   "cell_type": "code",
   "execution_count": 7,
   "metadata": {},
   "outputs": [
    {
     "name": "stdout",
     "output_type": "stream",
     "text": [
      "Complex_object:  (4+5j)\n",
      "Without complex object:  {'real': 4, 'img': 3}\n"
     ]
    }
   ],
   "source": [
    "import json\n",
    "def is_complex_num(objct):\n",
    "    if '__complex__' in objct:\n",
    "        return complex(objct['real'], objct['img'])\n",
    "    return objct\n",
    "\n",
    "complex_object =json.loads('{\"__complex__\": true, \"real\": 4, \"img\": 5}', object_hook = is_complex_num)\n",
    "simple_object =json.loads('{\"real\": 4, \"img\": 3}', object_hook = is_complex_num)\n",
    "print(\"Complex_object: \",complex_object)\n",
    "print(\"Without complex object: \",simple_object)\n"
   ]
  },
  {
   "cell_type": "markdown",
   "metadata": {},
   "source": [
    "Задание 9"
   ]
  },
  {
   "cell_type": "code",
   "execution_count": 18,
   "metadata": {},
   "outputs": [
    {
     "name": "stdout",
     "output_type": "stream",
     "text": [
      "Питоновый объект:\n",
      "{\"a\":  1, \"a\":  2, \"a\":  3, \"a\": 4, \"b\": 1, \"b\": 2}\n",
      "\n",
      "JSON объект:\n",
      "{'a': 4, 'b': 2}\n"
     ]
    }
   ],
   "source": [
    "import json\n",
    "python_obj = '{\"a\":  1, \"a\":  2, \"a\":  3, \"a\": 4, \"b\": 1, \"b\": 2}'\n",
    "print(\"Питоновый объект:\")\n",
    "print(python_obj)\n",
    "json_obj = json.loads(python_obj)\n",
    "print(\"\\nJSON объект:\")\n",
    "print(json_obj) \n"
   ]
  }
 ],
 "metadata": {
  "kernelspec": {
   "display_name": "Python 3",
   "language": "python",
   "name": "python3"
  },
  "language_info": {
   "codemirror_mode": {
    "name": "ipython",
    "version": 3
   },
   "file_extension": ".py",
   "mimetype": "text/x-python",
   "name": "python",
   "nbconvert_exporter": "python",
   "pygments_lexer": "ipython3",
   "version": "3.12.6"
  }
 },
 "nbformat": 4,
 "nbformat_minor": 2
}
